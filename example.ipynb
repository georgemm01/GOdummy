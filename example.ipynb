{
 "cells": [
  {
   "cell_type": "markdown",
   "metadata": {},
   "source": [
    "Globus API Wrapper for Dummies\n",
    "===\n",
    "Jorge D. Morales<br>\n",
    "06/18/2017<br>\n",
    "\n",
    "This is a minimally simplfied globus wrapper. The idea is to simplify the usage for just moving data from a python script (or notebook). \n",
    "\n",
    "The guide assumes that you already have a GO account, and the **globusonline-transfer-api-client**. \n",
    "At its core this wrapper is using the globus-api examples/tutorial with a few added wrappers, if you read the GOdummy.py it will be easy to tell, as the name implies, this is just a simplified wrapper. \n",
    "\n",
    "\n",
    "---\n",
    "## Prerequisites\n",
    "\n",
    "1. A [Globus Online](https://www.globus.org/app/account) account (just click and get one)\n",
    "2. The [globus transfer-api-client](https://github.com/globusonline/transfer-api-client-python) (just install with pip as instructed in the link)\n",
    "3. Access to two end points, at least one has to be a static endpoint, one of them can be a [personal endpoint](https://www.globus.org/globus-connect-personal).\n",
    "\n",
    "## Setup\n",
    "\n",
    "1. Just clone the repository (all you really need is the GOdummy.py wrapper, but some examples are provided)\n",
    "    ``` \n",
    "            git clone https://github.com/georgemm01/GOdummy.git\n",
    "    ```\n",
    "    \n",
    "2. Make sure that ```GOdummy.py``` is in your ```PYTHONPATH```, or in your working area, so that you can import it to your script\n",
    "\n",
    "3. You can run the example.py or example.ipynb\n", 
    "\n"
   ]
  },
  {
   "cell_type": "markdown",
   "metadata": {},
   "source": [
    "___\n",
    "## 1. Import the GO API Wrapper for Dummies"
   ]
  },
  {
   "cell_type": "code",
   "execution_count": 1,
   "metadata": {
    "collapsed": true
   },
   "outputs": [],
   "source": [
    "from GOdummy import *"
   ]
  },
  {
   "cell_type": "markdown",
   "metadata": {},
   "source": [
    "## 2. Initialize your credentials and the API\n",
    "(replace batman with your GO username)"
   ]
  },
  {
   "cell_type": "code",
   "execution_count": 2,
   "metadata": {
    "collapsed": false
   },
   "outputs": [
    {
     "name": "stdout",
     "output_type": "stream",
     "text": [
      "Globus Online Password: ········\n"
     ]
    }
   ],
   "source": [
    "credential=GOinit(username='batman')"
   ]
  },
  {
   "cell_type": "markdown",
   "metadata": {},
   "source": [
    "## 3. Define the source and destination endpoints and autoactivate them\n",
    "If your GO credential is alowed it will activate inactive endpoints, otherwise you will have to initialize them, either by clicking in the GO website, or by running the globus connect personal in your personal endpoint. "
   ]
  },
  {
   "cell_type": "code",
   "execution_count": 3,
   "metadata": {
    "collapsed": false,
    "scrolled": true
   },
   "outputs": [
    {
     "name": "stdout",
     "output_type": "stream",
     "text": [
      "=== Endpoint pre-activation ===\n",
      "slac#osg\n",
      "  activated (expires: 2017-06-19T04:07:21+00:00)\n",
      "  public\n",
      "  default myproxy server: osgmyproxy.slac.stanford.edu\n",
      "  servers:\n",
      "    gsiftp://griddev03.slac.stanford.edu:2811  (/DC=org/DC=opensciencegrid/O=Open Science Grid/OU=Services/CN=griddev03.slac.stanford.edu)\n",
      "\n",
      "result: AlreadyActivated (Endpoint is already activated and does not expire before the requested if_expires_in.)\n",
      "=== Endpoint post-activation ===\n",
      "slac#osg\n",
      "  activated (expires: 2017-06-19T04:07:21+00:00)\n",
      "  public\n",
      "  default myproxy server: osgmyproxy.slac.stanford.edu\n",
      "  servers:\n",
      "    gsiftp://griddev03.slac.stanford.edu:2811  (/DC=org/DC=opensciencegrid/O=Open Science Grid/OU=Services/CN=griddev03.slac.stanford.edu)\n",
      "\n",
      "=== Endpoint pre-activation ===\n",
      "batman#c6c38046\n",
      "  activated (expires: 2017-06-19T04:09:49+00:00)\n",
      "  not public\n",
      "  default myproxy server: myproxy.globusonline.org\n",
      "  servers:\n",
      "    GC endpoint, no uri available  (/C=US/O=Globus Consortium/OU=Globus Connect Service/CN=c9bb328a-ea2c-11e6-a020-22000bb0e69e)\n",
      "\n",
      "result: AlreadyActivated (Endpoint is already activated and does not expire before the requested if_expires_in.)\n",
      "=== Endpoint post-activation ===\n",
      "batman#c6c38046\n",
      "  activated (expires: 2017-06-19T04:09:49+00:00)\n",
      "  not public\n",
      "  default myproxy server: myproxy.globusonline.org\n",
      "  servers:\n",
      "    GC endpoint, no uri available  (/C=US/O=Globus Consortium/OU=Globus Connect Service/CN=c9bb328a-ea2c-11e6-a020-22000bb0e69e)\n",
      "\n"
     ]
    }
   ],
   "source": [
    "ep1='slac#osg'\n",
    "ep2=\"batman#c6c38046\"\n",
    "\n",
    "GOendpoints(ep1,ep2)"
   ]
  },
  {
   "cell_type": "markdown",
   "metadata": {},
   "source": [
    "## 4. Initialize your transfer "
   ]
  },
  {
   "cell_type": "code",
   "execution_count": 8,
   "metadata": {
    "collapsed": false
   },
   "outputs": [],
   "source": [
    "t=GOpreTransfer(epoint1=ep1,epoint2=ep2,timeout=10) #timeout in minutes"
   ]
  },
  {
   "cell_type": "markdown",
   "metadata": {},
   "source": [
    "## 5. Add the items you want to transfer\n",
    "(you can add as many as you wish, if the transfer takes more than the timeout it will abort)"
   ]
  },
  {
   "cell_type": "code",
   "execution_count": 5,
   "metadata": {
    "collapsed": false
   },
   "outputs": [],
   "source": [
    "t.add_item(\"/batpath/to/batdirectory/batfile.batsuffix\",\n",
    "           \"/home/batman/batfilecopy.batsuffix\")"
   ]
  },
  {
   "cell_type": "markdown",
   "metadata": {},
   "source": [
    "## 6. Execute the transfer"
   ]
  },
  {
   "cell_type": "code",
   "execution_count": 6,
   "metadata": {
    "collapsed": false
   },
   "outputs": [
    {
     "name": "stdout",
     "output_type": "stream",
     "text": [
      "Task 8de893c6-5447-11e7-be81-22000b9a448b complete with status SUCCEEDED\n"
     ]
    }
   ],
   "source": [
    "GOTransfer(t)"
   ]
  }
 ],
 "metadata": {
  "kernelspec": {
   "display_name": "Python 2",
   "language": "python",
   "name": "python2"
  },
  "language_info": {
   "codemirror_mode": {
    "name": "ipython",
    "version": 2
   },
   "file_extension": ".py",
   "mimetype": "text/x-python",
   "name": "python",
   "nbconvert_exporter": "python",
   "pygments_lexer": "ipython2",
   "version": "2.7.13"
  }
 },
 "nbformat": 4,
 "nbformat_minor": 2
}
